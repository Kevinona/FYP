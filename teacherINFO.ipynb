{
 "cells": [
  {
   "cell_type": "code",
   "execution_count": 30,
   "metadata": {},
   "outputs": [],
   "source": [
    "# import libraries\n",
    "from selenium import webdriver\n",
    "from selenium.webdriver.chrome.service import Service\n",
    "from selenium.webdriver.common.by import By\n",
    "\n",
    "import time\n",
    "import pandas as pd"
   ]
  },
  {
   "cell_type": "code",
   "execution_count": 44,
   "metadata": {},
   "outputs": [],
   "source": [
    "# create a new Chrome session\n",
    "service = Service(executable_path=\"D:/chromedriver_win32/chromedriver.exe\")\n",
    "driver = webdriver.Chrome(service=service)\n",
    "driver.get(\"https://staff.uic.edu.cn/list/people/cn.html?college_id=all\")"
   ]
  },
  {
   "cell_type": "code",
   "execution_count": 46,
   "metadata": {},
   "outputs": [],
   "source": [
    "# create dataframe to store data\n",
    "d = pd.DataFrame(columns = ['name', 'people_page_box', 'job', 'info', 'work'])\n",
    "d2 = pd.DataFrame(columns = ['name', 'people_page_box', 'job', 'info', 'work'])"
   ]
  },
  {
   "cell_type": "code",
   "execution_count": null,
   "metadata": {},
   "outputs": [],
   "source": [
    "# get the number of pages\n",
    "for i in range(0,60):\n",
    "    k = i * 10\n",
    "    if i == 59:\n",
    "        # get the number of teachers in the last page\n",
    "        for j in range(0,9):\n",
    "            time.sleep(0.5)\n",
    "            link = driver.find_elements(By.CLASS_NAME, \"name\")\n",
    "            link[j].click()\n",
    "            time.sleep(0.5)\n",
    "            w = driver.find_elements(By.CLASS_NAME, \"wrap\")\n",
    "            l = len(w)\n",
    "            if l < 7:\n",
    "                d.loc[k+j] = [w[0].text, w[1].text, w[2].text, '', '']\n",
    "            else:\n",
    "                d.loc[k+j] = [w[0].text, w[1].text, w[2].text, w[5].text, w[6].text]\n",
    "                \n",
    "            driver.back()\n",
    "    else:\n",
    "        # get the number of teachers in each page\n",
    "        for j in range(0,10):\n",
    "            time.sleep(0.5)\n",
    "            link = driver.find_elements(By.CLASS_NAME, \"name\")\n",
    "            link[j].click()\n",
    "            time.sleep(0.5)\n",
    "            w = driver.find_elements(By.CLASS_NAME, \"wrap\")\n",
    "            l = len(w)\n",
    "            if l < 7:\n",
    "                d.loc[k+j] = [w[0].text, w[1].text, w[2].text, '', '']\n",
    "            else:\n",
    "                d.loc[k+j] = [w[0].text, w[1].text, w[2].text, w[5].text, w[6].text]\n",
    "                    \n",
    "            driver.back()\n",
    "    \n",
    "    # click next page\n",
    "    time.sleep(0.5)\n",
    "    nx = driver.find_element(By.CLASS_NAME, \"btn-next\")\n",
    "    nx.click()"
   ]
  },
  {
   "cell_type": "code",
   "execution_count": 48,
   "metadata": {},
   "outputs": [],
   "source": [
    "# save data\n",
    "d.to_csv('D:/data1.csv', encoding='utf_8_sig')"
   ]
  },
  {
   "cell_type": "code",
   "execution_count": 58,
   "metadata": {},
   "outputs": [],
   "source": [
    "# restart the browser\n",
    "driver.quit()\n",
    "service = Service(executable_path=\"D:/chromedriver_win32/chromedriver.exe\")\n",
    "driver = webdriver.Chrome(service=service)\n",
    "driver.get(\"https://staff.uic.edu.cn/list/people/cn.html?college_id=all\")"
   ]
  },
  {
   "cell_type": "code",
   "execution_count": 59,
   "metadata": {},
   "outputs": [],
   "source": [
    "# jump to the pages\n",
    "for i in range(0,60):\n",
    "    time.sleep(0.2)\n",
    "    nx = driver.find_element(By.CLASS_NAME, \"btn-next\")\n",
    "    nx.click()"
   ]
  },
  {
   "cell_type": "code",
   "execution_count": 68,
   "metadata": {},
   "outputs": [],
   "source": [
    "# get the number of pages\n",
    "for i in range (0,8):\n",
    "    k = i * 10    \n",
    "    if i == 7:\n",
    "        # get the number of teachers in the last page\n",
    "        for j in range(0,6):\n",
    "            time.sleep(0.5)\n",
    "            link = driver.find_elements(By.CLASS_NAME, \"name\")\n",
    "            link[j].click()\n",
    "            time.sleep(0.5)\n",
    "            w = driver.find_elements(By.CLASS_NAME, \"wrap\")\n",
    "            l = len(w)\n",
    "            if l < 7:\n",
    "                d2.loc[k+j] = [w[0].text, w[1].text, w[2].text, '', '']\n",
    "            else:\n",
    "                d2.loc[k+j] = [w[0].text, w[1].text, w[2].text, w[5].text, w[6].text]\n",
    "                \n",
    "            driver.back()\n",
    "    else:\n",
    "        # get the number of teachers in each page\n",
    "        for j in range(10):\n",
    "            time.sleep(0.5)\n",
    "            link = driver.find_elements(By.CLASS_NAME, \"name\")\n",
    "            link[j].click()\n",
    "            time.sleep(0.5)\n",
    "            w = driver.find_elements(By.CLASS_NAME, \"wrap\")\n",
    "            l = len(w)\n",
    "            if l < 7:\n",
    "                d2.loc[k+j] = [w[0].text, w[1].text, w[2].text, '', '']\n",
    "            else:\n",
    "                d2.loc[k+j] = [w[0].text, w[1].text, w[2].text, w[5].text, w[6].text]\n",
    "                \n",
    "            driver.back()\n",
    "    # click next page\n",
    "    if i != 7:\n",
    "        time.sleep(0.5)\n",
    "        nx = driver.find_element(By.CLASS_NAME, \"btn-next\")\n",
    "        nx.click()"
   ]
  },
  {
   "cell_type": "code",
   "execution_count": 69,
   "metadata": {},
   "outputs": [],
   "source": [
    "# save data\n",
    "d2.to_csv('D:/data2.csv', encoding='utf_8_sig')"
   ]
  },
  {
   "cell_type": "code",
   "execution_count": 70,
   "metadata": {},
   "outputs": [],
   "source": [
    "# close the browser\n",
    "driver.quit()"
   ]
  },
  {
   "cell_type": "code",
   "execution_count": null,
   "metadata": {},
   "outputs": [],
   "source": [
    "# merge data into one file\n",
    "df1 = pd.read_csv('D:/data1.csv', encoding='utf_8_sig')\n",
    "df2 = pd.read_csv('D:/data2.csv', encoding='utf_8_sig')\n",
    "\n",
    "df = pd.concat([df1, df2], ignore_index=True)\n",
    "df.to_csv('D:/data.csv', encoding='utf_8_sig')"
   ]
  }
 ],
 "metadata": {
  "kernelspec": {
   "display_name": "base",
   "language": "python",
   "name": "python3"
  },
  "language_info": {
   "codemirror_mode": {
    "name": "ipython",
    "version": 3
   },
   "file_extension": ".py",
   "mimetype": "text/x-python",
   "name": "python",
   "nbconvert_exporter": "python",
   "pygments_lexer": "ipython3",
   "version": "3.9.16"
  },
  "orig_nbformat": 4
 },
 "nbformat": 4,
 "nbformat_minor": 2
}
